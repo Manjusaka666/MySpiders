{
 "cells": [
  {
   "cell_type": "markdown",
   "metadata": {},
   "source": [
    "# 导入相关库"
   ]
  },
  {
   "cell_type": "code",
   "execution_count": 1,
   "metadata": {},
   "outputs": [],
   "source": [
    "import requests\n",
    "import json\n",
    "import re\n",
    "\n",
    "import pandas as pd\n",
    "import numpy as np\n",
    "\n",
    "from sklearn.naive_bayes import MultinomialNB\n",
    "from sklearn.model_selection import train_test_split\n",
    "from sklearn.metrics import accuracy_score, confusion_matrix,f1_score,classification_report\n",
    "from sklearn.feature_extraction.text import TfidfTransformer\n",
    "from sklearn.feature_extraction.text import TfidfVectorizer\n",
    "\n",
    "import jieba as jb\n",
    "import matplotlib.pyplot as plt\n",
    "import itertools\n",
    "plt.rcParams['font.sans-serif']=\"SimHei\"\n",
    "plt.rcParams['axes.unicode_minus']=False\n",
    "import warnings\n",
    "warnings.filterwarnings('ignore')\n",
    "#要爬取的新闻分类地址国内、国际、军事、航空、科技\n",
    "url_list={'国内':[ 'https://temp.163.com/special/00804KVA/cm_guonei.js?callback=data_callback',\n",
    "                   'https://temp.163.com/special/00804KVA/cm_guonei_0{}.js?callback=data_callback'],\n",
    "         '国际':['https://temp.163.com/special/00804KVA/cm_guoji.js?callback=data_callback',\n",
    "                 'https://temp.163.com/special/00804KVA/cm_guoji_0{}.js?callback=data_callback'],\n",
    "         '军事':['https://temp.163.com/special/00804KVA/cm_war.js?callback=data_callback',\n",
    "               'https://temp.163.com/special/00804KVA/cm_war_0{}.js?callback=data_callback'],\n",
    "         '航空':['https://temp.163.com/special/00804KVA/cm_hangkong.js?callback=data_callback&a=2',\n",
    "               'https://temp.163.com/special/00804KVA/cm_hangkong_0{}.js?callback=data_callback&a=2'],\n",
    "         '科技':['https://tech.163.com/special/00097UHL/tech_datalist.js?callback=data_callback',\n",
    "              'https://tech.163.com/special/00097UHL/tech_datalist_0{}.js?callback=data_callback']}"
   ]
  },
  {
   "cell_type": "markdown",
   "metadata": {},
   "source": [
    "# 爬取数据"
   ]
  },
  {
   "cell_type": "code",
   "execution_count": 2,
   "metadata": {},
   "outputs": [
    {
     "name": "stdout",
     "output_type": "stream",
     "text": [
      "=========正在爬取国内新闻===========\n",
      "https://temp.163.com/special/00804KVA/cm_guonei.js?callback=data_callback\n",
      "https://temp.163.com/special/00804KVA/cm_guonei_02.js?callback=data_callback\n",
      "https://temp.163.com/special/00804KVA/cm_guonei_03.js?callback=data_callback\n",
      "https://temp.163.com/special/00804KVA/cm_guonei_04.js?callback=data_callback\n",
      "https://temp.163.com/special/00804KVA/cm_guonei_05.js?callback=data_callback\n",
      "https://temp.163.com/special/00804KVA/cm_guonei_06.js?callback=data_callback\n",
      "https://temp.163.com/special/00804KVA/cm_guonei_07.js?callback=data_callback\n",
      "https://temp.163.com/special/00804KVA/cm_guonei_08.js?callback=data_callback\n",
      "=========正在爬取国际新闻===========\n",
      "https://temp.163.com/special/00804KVA/cm_guoji.js?callback=data_callback\n",
      "https://temp.163.com/special/00804KVA/cm_guoji_02.js?callback=data_callback\n",
      "https://temp.163.com/special/00804KVA/cm_guoji_03.js?callback=data_callback\n",
      "https://temp.163.com/special/00804KVA/cm_guoji_04.js?callback=data_callback\n",
      "https://temp.163.com/special/00804KVA/cm_guoji_05.js?callback=data_callback\n",
      "https://temp.163.com/special/00804KVA/cm_guoji_06.js?callback=data_callback\n",
      "https://temp.163.com/special/00804KVA/cm_guoji_07.js?callback=data_callback\n",
      "https://temp.163.com/special/00804KVA/cm_guoji_08.js?callback=data_callback\n",
      "=========正在爬取军事新闻===========\n",
      "https://temp.163.com/special/00804KVA/cm_war.js?callback=data_callback\n",
      "https://temp.163.com/special/00804KVA/cm_war_02.js?callback=data_callback\n",
      "https://temp.163.com/special/00804KVA/cm_war_03.js?callback=data_callback\n",
      "https://temp.163.com/special/00804KVA/cm_war_04.js?callback=data_callback\n",
      "https://temp.163.com/special/00804KVA/cm_war_05.js?callback=data_callback\n",
      "https://temp.163.com/special/00804KVA/cm_war_06.js?callback=data_callback\n",
      "https://temp.163.com/special/00804KVA/cm_war_07.js?callback=data_callback\n",
      "https://temp.163.com/special/00804KVA/cm_war_08.js?callback=data_callback\n",
      "=========正在爬取航空新闻===========\n",
      "https://temp.163.com/special/00804KVA/cm_hangkong.js?callback=data_callback&a=2\n",
      "https://temp.163.com/special/00804KVA/cm_hangkong_02.js?callback=data_callback&a=2\n",
      "https://temp.163.com/special/00804KVA/cm_hangkong_03.js?callback=data_callback&a=2\n",
      "https://temp.163.com/special/00804KVA/cm_hangkong_04.js?callback=data_callback&a=2\n",
      "https://temp.163.com/special/00804KVA/cm_hangkong_05.js?callback=data_callback&a=2\n",
      "https://temp.163.com/special/00804KVA/cm_hangkong_06.js?callback=data_callback&a=2\n",
      "https://temp.163.com/special/00804KVA/cm_hangkong_07.js?callback=data_callback&a=2\n",
      "https://temp.163.com/special/00804KVA/cm_hangkong_08.js?callback=data_callback&a=2\n",
      "=========正在爬取科技新闻===========\n",
      "https://tech.163.com/special/00097UHL/tech_datalist.js?callback=data_callback\n",
      "https://tech.163.com/special/00097UHL/tech_datalist_02.js?callback=data_callback\n",
      "https://tech.163.com/special/00097UHL/tech_datalist_03.js?callback=data_callback\n",
      "爬取完毕！\n"
     ]
    }
   ],
   "source": [
    "def parse_class(url):\n",
    "    '''获取分类下的新闻'''\n",
    "    req=requests.get(url)\n",
    "    text=req.text\n",
    "    res=re.findall(\"title(.*?)\\\\n\",text)\n",
    "    #去除不规范的符号\n",
    "    for i in range(len(res)):\n",
    "        res[i]=re.sub(\"\\'|\\\"|\\:|'|,|\",\"\",res[i])\n",
    "    return res\n",
    "titles=[]\n",
    "categories=[]\n",
    "def get_result(url):\n",
    "    global titles,categories\n",
    "    temp=parse_class(url)\n",
    "    if temp[0]=='>网易-404</title>':\n",
    "        return False\n",
    "    print(url)\n",
    "    titles.extend(temp)\n",
    "    temp_class = [key for _ in range(len(temp))]\n",
    "    categories.extend(temp_class)\n",
    "    return True\n",
    "\n",
    "for key in url_list.keys():\n",
    "    #按分类分别爬取\n",
    "    print(f\"=========正在爬取{key}新闻===========\")\n",
    "    #遍历每个分类中的子链接\n",
    "    #首先获取首页\n",
    "    get_result(url_list[key][0])\n",
    "    #循环获取加载更多得到的页面\n",
    "    for i in range(1,10):\n",
    "        try:\n",
    "            if not get_result(url_list[key][1].format(i)):\n",
    "                continue\n",
    "        except:\n",
    "            break\n",
    "print(\"爬取完毕！\")"
   ]
  },
  {
   "cell_type": "markdown",
   "metadata": {},
   "source": [
    "# 数据合并\n",
    " * 由于新闻具有实时性，每天，或者每天的不同时间段会有不同的新闻产生，因此在保存前将此次爬取中与之前保存的数据中重复内容删除再保存，以达到扩充数据集的目的"
   ]
  },
  {
   "cell_type": "code",
   "execution_count": 3,
   "metadata": {},
   "outputs": [
    {
     "name": "stdout",
     "output_type": "stream",
     "text": [
      "更新数据集...\n"
     ]
    },
    {
     "ename": "UnicodeEncodeError",
     "evalue": "'gbk' codec can't encode character '\\ufffd' in position 8: illegal multibyte sequence",
     "output_type": "error",
     "traceback": [
      "\u001b[1;31m---------------------------------------------------------------------------\u001b[0m",
      "\u001b[1;31mUnicodeEncodeError\u001b[0m                        Traceback (most recent call last)",
      "\u001b[1;32m<ipython-input-3-67f2ee6e14bb>\u001b[0m in \u001b[0;36m<module>\u001b[1;34m()\u001b[0m\n\u001b[0;32m     13\u001b[0m \u001b[0mprint\u001b[0m\u001b[1;33m(\u001b[0m\u001b[1;34m\"更新数据集...\"\u001b[0m\u001b[1;33m)\u001b[0m\u001b[1;33m\u001b[0m\u001b[0m\n\u001b[0;32m     14\u001b[0m \u001b[0mdf\u001b[0m\u001b[1;33m=\u001b[0m\u001b[0mupdate\u001b[0m\u001b[1;33m(\u001b[0m\u001b[0mold\u001b[0m\u001b[1;33m,\u001b[0m\u001b[0mnew\u001b[0m\u001b[1;33m)\u001b[0m\u001b[1;33m\u001b[0m\u001b[0m\n\u001b[1;32m---> 15\u001b[1;33m \u001b[0mdf\u001b[0m\u001b[1;33m.\u001b[0m\u001b[0mto_csv\u001b[0m\u001b[1;33m(\u001b[0m\u001b[1;34m\"新闻数据集.csv\"\u001b[0m\u001b[1;33m,\u001b[0m\u001b[0mindex\u001b[0m\u001b[1;33m=\u001b[0m\u001b[1;32mNone\u001b[0m\u001b[1;33m,\u001b[0m\u001b[0mencoding\u001b[0m\u001b[1;33m=\u001b[0m\u001b[1;34m'gbk'\u001b[0m\u001b[1;33m)\u001b[0m\u001b[1;33m\u001b[0m\u001b[0m\n\u001b[0m\u001b[0;32m     16\u001b[0m \u001b[0mprint\u001b[0m\u001b[1;33m(\u001b[0m\u001b[1;34m\"更新完毕，共有数据:\"\u001b[0m\u001b[1;33m,\u001b[0m\u001b[0mdf\u001b[0m\u001b[1;33m.\u001b[0m\u001b[0mshape\u001b[0m\u001b[1;33m[\u001b[0m\u001b[1;36m0\u001b[0m\u001b[1;33m]\u001b[0m\u001b[1;33m,\u001b[0m\u001b[1;34m\"条\"\u001b[0m\u001b[1;33m)\u001b[0m\u001b[1;33m\u001b[0m\u001b[0m\n\u001b[0;32m     17\u001b[0m \u001b[0mdf\u001b[0m\u001b[1;33m.\u001b[0m\u001b[0mhead\u001b[0m\u001b[1;33m(\u001b[0m\u001b[1;33m)\u001b[0m\u001b[1;33m\u001b[0m\u001b[0m\n",
      "\u001b[1;32mE:\\anaconda3\\lib\\site-packages\\pandas\\core\\frame.py\u001b[0m in \u001b[0;36mto_csv\u001b[1;34m(self, path_or_buf, sep, na_rep, float_format, columns, header, index, index_label, mode, encoding, compression, quoting, quotechar, line_terminator, chunksize, tupleize_cols, date_format, doublequote, escapechar, decimal)\u001b[0m\n\u001b[0;32m   1743\u001b[0m                                  \u001b[0mdoublequote\u001b[0m\u001b[1;33m=\u001b[0m\u001b[0mdoublequote\u001b[0m\u001b[1;33m,\u001b[0m\u001b[1;33m\u001b[0m\u001b[0m\n\u001b[0;32m   1744\u001b[0m                                  escapechar=escapechar, decimal=decimal)\n\u001b[1;32m-> 1745\u001b[1;33m         \u001b[0mformatter\u001b[0m\u001b[1;33m.\u001b[0m\u001b[0msave\u001b[0m\u001b[1;33m(\u001b[0m\u001b[1;33m)\u001b[0m\u001b[1;33m\u001b[0m\u001b[0m\n\u001b[0m\u001b[0;32m   1746\u001b[0m \u001b[1;33m\u001b[0m\u001b[0m\n\u001b[0;32m   1747\u001b[0m         \u001b[1;32mif\u001b[0m \u001b[0mpath_or_buf\u001b[0m \u001b[1;32mis\u001b[0m \u001b[1;32mNone\u001b[0m\u001b[1;33m:\u001b[0m\u001b[1;33m\u001b[0m\u001b[0m\n",
      "\u001b[1;32mE:\\anaconda3\\lib\\site-packages\\pandas\\io\\formats\\csvs.py\u001b[0m in \u001b[0;36msave\u001b[1;34m(self)\u001b[0m\n\u001b[0;32m    149\u001b[0m                 \u001b[0mself\u001b[0m\u001b[1;33m.\u001b[0m\u001b[0mwriter\u001b[0m \u001b[1;33m=\u001b[0m \u001b[0mUnicodeWriter\u001b[0m\u001b[1;33m(\u001b[0m\u001b[0mf\u001b[0m\u001b[1;33m,\u001b[0m \u001b[1;33m**\u001b[0m\u001b[0mwriter_kwargs\u001b[0m\u001b[1;33m)\u001b[0m\u001b[1;33m\u001b[0m\u001b[0m\n\u001b[0;32m    150\u001b[0m \u001b[1;33m\u001b[0m\u001b[0m\n\u001b[1;32m--> 151\u001b[1;33m             \u001b[0mself\u001b[0m\u001b[1;33m.\u001b[0m\u001b[0m_save\u001b[0m\u001b[1;33m(\u001b[0m\u001b[1;33m)\u001b[0m\u001b[1;33m\u001b[0m\u001b[0m\n\u001b[0m\u001b[0;32m    152\u001b[0m \u001b[1;33m\u001b[0m\u001b[0m\n\u001b[0;32m    153\u001b[0m         \u001b[1;32mfinally\u001b[0m\u001b[1;33m:\u001b[0m\u001b[1;33m\u001b[0m\u001b[0m\n",
      "\u001b[1;32mE:\\anaconda3\\lib\\site-packages\\pandas\\io\\formats\\csvs.py\u001b[0m in \u001b[0;36m_save\u001b[1;34m(self)\u001b[0m\n\u001b[0;32m    261\u001b[0m                 \u001b[1;32mbreak\u001b[0m\u001b[1;33m\u001b[0m\u001b[0m\n\u001b[0;32m    262\u001b[0m \u001b[1;33m\u001b[0m\u001b[0m\n\u001b[1;32m--> 263\u001b[1;33m             \u001b[0mself\u001b[0m\u001b[1;33m.\u001b[0m\u001b[0m_save_chunk\u001b[0m\u001b[1;33m(\u001b[0m\u001b[0mstart_i\u001b[0m\u001b[1;33m,\u001b[0m \u001b[0mend_i\u001b[0m\u001b[1;33m)\u001b[0m\u001b[1;33m\u001b[0m\u001b[0m\n\u001b[0m\u001b[0;32m    264\u001b[0m \u001b[1;33m\u001b[0m\u001b[0m\n\u001b[0;32m    265\u001b[0m     \u001b[1;32mdef\u001b[0m \u001b[0m_save_chunk\u001b[0m\u001b[1;33m(\u001b[0m\u001b[0mself\u001b[0m\u001b[1;33m,\u001b[0m \u001b[0mstart_i\u001b[0m\u001b[1;33m,\u001b[0m \u001b[0mend_i\u001b[0m\u001b[1;33m)\u001b[0m\u001b[1;33m:\u001b[0m\u001b[1;33m\u001b[0m\u001b[0m\n",
      "\u001b[1;32mE:\\anaconda3\\lib\\site-packages\\pandas\\io\\formats\\csvs.py\u001b[0m in \u001b[0;36m_save_chunk\u001b[1;34m(self, start_i, end_i)\u001b[0m\n\u001b[0;32m    288\u001b[0m \u001b[1;33m\u001b[0m\u001b[0m\n\u001b[0;32m    289\u001b[0m         libwriters.write_csv_rows(self.data, ix, self.nlevels,\n\u001b[1;32m--> 290\u001b[1;33m                                   self.cols, self.writer)\n\u001b[0m",
      "\u001b[1;32mpandas\\_libs\\writers.pyx\u001b[0m in \u001b[0;36mpandas._libs.writers.write_csv_rows\u001b[1;34m()\u001b[0m\n",
      "\u001b[1;31mUnicodeEncodeError\u001b[0m: 'gbk' codec can't encode character '\\ufffd' in position 8: illegal multibyte sequence"
     ]
    }
   ],
   "source": [
    "new=pd.DataFrame({\n",
    "    \"新闻内容\":titles,\n",
    "    \"新闻类别\":categories\n",
    "})\n",
    "old=pd.read_csv(\"新闻数据集.csv\",encoding='gbk',engine='python')\n",
    "def update(old,new):\n",
    "    '''\n",
    "    更新数据集：将本次新爬取的数据加入到数据集中（去除掉了重复元素）\n",
    "    '''\n",
    "    data=new.append(old)\n",
    "    data=data.drop_duplicates()\n",
    "    return data\n",
    "print(\"更新数据集...\")\n",
    "df=update(old,new)\n",
    "df.to_csv(\"新闻数据集.csv\",index=None,encoding='gbk')\n",
    "print(\"更新完毕，共有数据:\",df.shape[0],\"条\")\n",
    "df.head()"
   ]
  },
  {
   "cell_type": "code",
   "execution_count": 5,
   "metadata": {},
   "outputs": [
    {
     "data": {
      "text/plain": [
       "Text(0.5,1,'各个类别新闻爬取数目统计')"
      ]
     },
     "execution_count": 5,
     "metadata": {},
     "output_type": "execute_result"
    },
    {
     "data": {
      "image/png": "[encoded data removed]",
      "text/plain": [
       "<Figure size 432x288 with 1 Axes>"
      ]
     },
     "metadata": {},
     "output_type": "display_data"
    }
   ],
   "source": [
    "df.新闻类别.value_counts().plot(kind='bar')\n",
    "plt.title(\"各个类别新闻爬取数目统计\")"
   ]
  },
  {
   "cell_type": "markdown",
   "metadata": {},
   "source": [
    "# 数据清洗\n",
    "   * 去标点符号\n",
    "   * 去停用词\n",
    "   * 去数字\n",
    "   * 分词"
   ]
  },
  {
   "cell_type": "code",
   "execution_count": 6,
   "metadata": {},
   "outputs": [
    {
     "name": "stderr",
     "output_type": "stream",
     "text": [
      "Building prefix dict from the default dictionary ...\n",
      "Loading model from cache C:\\Users\\lzh\\AppData\\Local\\Temp\\jieba.cache\n",
      "Loading model cost 0.681 seconds.\n",
      "Prefix dict has been built successfully.\n"
     ]
    },
    {
     "name": "stdout",
     "output_type": "stream",
     "text": [
      "数据预处理完毕！\n"
     ]
    }
   ],
   "source": [
    "def remove_punctuation(line):\n",
    "    line = str(line)\n",
    "    if line.strip()=='':\n",
    "        return ''\n",
    "    rule = re.compile(u\"[^a-zA-Z0-9\\u4E00-\\u9FA5]\")\n",
    "    line = rule.sub('',line)\n",
    "    return line\n",
    " \n",
    "def stopwordslist(filepath):  \n",
    "    stopwords = [line.strip() for line in open(filepath, 'r', encoding=\"UTF-8\").readlines()]  \n",
    "    return stopwords  \n",
    " \n",
    "#加载停用词\n",
    "stopwords = stopwordslist(\"./stop_words.txt\")\n",
    "#删除除字母,数字，汉字以外的所有符号\n",
    "df['clean_review'] = df['新闻内容'].apply(remove_punctuation)\n",
    "#分词，并过滤停用词\n",
    "\n",
    "df['cut_review'] = df['clean_review'].apply(lambda x: \" \".join([w for w in list(jb.cut(x)) if w not in stopwords]))\n",
    "print(\"数据预处理完毕！\")"
   ]
  },
  {
   "cell_type": "markdown",
   "metadata": {},
   "source": [
    "## TF-IDF转化，建立朴素贝叶斯模型"
   ]
  },
  {
   "cell_type": "code",
   "execution_count": 7,
   "metadata": {},
   "outputs": [
    {
     "name": "stdout",
     "output_type": "stream",
     "text": [
      "模型训练完毕！\n"
     ]
    }
   ],
   "source": [
    "#转词向量\n",
    "tfidf = TfidfVectorizer(norm='l2', ngram_range=(1, 2))\n",
    "features = tfidf.fit_transform(df.cut_review)\n",
    "labels = df.新闻类别\n",
    "#划分训练集\n",
    "x_train,x_test,y_train,y_test=train_test_split(features,labels,test_size=0.2,random_state=0)\n",
    "model=MultinomialNB().fit(x_train,y_train)\n",
    "y_pred=model.predict(x_test)\n",
    "print(\"模型训练完毕！\")"
   ]
  },
  {
   "cell_type": "markdown",
   "metadata": {},
   "source": [
    "# 模型评估\n",
    " * 混淆矩阵\n",
    " * 分类评估报告"
   ]
  },
  {
   "cell_type": "code",
   "execution_count": 8,
   "metadata": {},
   "outputs": [
    {
     "data": {
      "image/png": "[encoded data removed]",
      "text/plain": [
       "<Figure size 576x432 with 2 Axes>"
      ]
     },
     "metadata": {},
     "output_type": "display_data"
    },
    {
     "name": "stdout",
     "output_type": "stream",
     "text": [
      "分类评估报告如下:\n",
      "\n",
      "             precision    recall  f1-score   support\n",
      "\n",
      "         军事       0.47      0.68      0.56       114\n",
      "         国内       0.56      0.41      0.47       102\n",
      "         国际       0.57      0.52      0.54       135\n",
      "         科技       0.00      0.00      0.00        39\n",
      "         航空       0.62      0.75      0.68       132\n",
      "\n",
      "avg / total       0.52      0.55      0.53       522\n",
      "\n"
     ]
    }
   ],
   "source": [
    "# 绘制混淆矩阵函数\n",
    "def plot_confusion_matrix(cm, classes,\n",
    "                          normalize=False,\n",
    "                          title='Confusion matrix',\n",
    "                          cmap=plt.cm.Blues):\n",
    "    plt.figure(figsize=(8,6))\n",
    "    plt.imshow(cm, interpolation='nearest', cmap=cmap)\n",
    "    plt.title(title)\n",
    "    plt.colorbar()\n",
    "    tick_marks = np.arange(len(classes))\n",
    "    plt.xticks(tick_marks, classes, rotation=45)\n",
    "    plt.yticks(tick_marks, classes)\n",
    "\n",
    "    fmt = '.2f' if normalize else 'd'\n",
    "    thresh = cm.max() / 2.\n",
    "    for i, j in itertools.product(range(cm.shape[0]), range(cm.shape[1])):\n",
    "        plt.text(j, i, format(cm[i, j], fmt),\n",
    "                 horizontalalignment=\"center\",\n",
    "                 color=\"white\" if cm[i, j] > thresh else \"black\")\n",
    "\n",
    "    plt.tight_layout()\n",
    "    plt.ylabel('真实标签')\n",
    "    plt.xlabel('预测标签')\n",
    "    plt.show()\n",
    "class_names=['军事','国内','国际','科技','航空']\n",
    "cm= confusion_matrix(y_test, y_pred)\n",
    "title=\"分类准确率:{:.2f}%\".format(accuracy_score(y_test,y_pred)*100)\n",
    "plot_confusion_matrix(cm,classes=class_names,title=title)\n",
    "print(\"分类评估报告如下:\\n\")\n",
    "print(classification_report(y_test,y_pred))"
   ]
  }
 ],
 "metadata": {
  "kernelspec": {
   "display_name": "Python 3",
   "language": "python",
   "name": "python3"
  },
  "language_info": {
   "codemirror_mode": {
    "name": "ipython",
    "version": 3
   },
   "file_extension": ".py",
   "mimetype": "text/x-python",
   "name": "python",
   "nbconvert_exporter": "python",
   "pygments_lexer": "ipython3",
   "version": "3.11.4"
  }
 },
 "nbformat": 4,
 "nbformat_minor": 2
}
